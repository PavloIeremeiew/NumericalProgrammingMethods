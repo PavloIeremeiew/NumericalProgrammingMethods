{
  "nbformat": 4,
  "nbformat_minor": 0,
  "metadata": {
    "colab": {
      "provenance": []
    },
    "kernelspec": {
      "name": "python3",
      "display_name": "Python 3"
    },
    "language_info": {
      "name": "python"
    }
  },
  "cells": [
    {
      "cell_type": "markdown",
      "source": [
        "\n",
        "**МІНІСТЕРСТВО ОСВІТИ І НАУКИ УКРАЇНИ\n",
        "ДЕРЖАВНИЙ ТОРГОВЕЛЬНО-ЕКОНОМІЧНИЙ УНІВЕРСИТЕТ\n",
        "ФАКУЛЬТЕТ ІНФОРМАЦІЙНИХ ТЕХНОЛОГІЙ\n",
        "КАФЕДРА КОМП'ЮТЕРНИХ НАУК\n",
        "ТА ІНФОРМАЦІЙНИХ СИСТЕМ**\n",
        "\n",
        "\n",
        "---\n",
        "\n",
        "\n",
        "\n",
        "Звіт\\\n",
        "з лабораторної роботи №\\\n",
        "з дисципліни «Чисельні методи програмування»\n",
        "\n",
        "\n",
        "\n",
        "---\n",
        "\n",
        "\n",
        "Перевірила:\\\n",
        "ДоцентФілімонова Т.О.\\\n",
        "Виконав:\\\n",
        "Студент групи ФІТ 2-16\\\n",
        "Єремеєв П.Р.\n",
        "\n",
        "Київ 2024"
      ],
      "metadata": {
        "id": "f2r3QBEJRAhs"
      }
    },
    {
      "cell_type": "markdown",
      "source": [
        "# **Варіант 2**"
      ],
      "metadata": {
        "id": "porTd262UZXB"
      }
    },
    {
      "cell_type": "markdown",
      "source": [
        "встановлення бібліотек"
      ],
      "metadata": {
        "id": "KFrkMWP4SkqV"
      }
    },
    {
      "cell_type": "markdown",
      "source": [],
      "metadata": {
        "id": "QeNyNZEiUwP3"
      }
    },
    {
      "cell_type": "code",
      "source": [
        "!! pip install numdifftools"
      ],
      "metadata": {
        "colab": {
          "base_uri": "https://localhost:8080/"
        },
        "id": "87h0Eqmq187u",
        "outputId": "35b66bf1-8288-41c1-f91b-72bdc04bee3c"
      },
      "execution_count": null,
      "outputs": [
        {
          "output_type": "execute_result",
          "data": {
            "text/plain": [
              "['Requirement already satisfied: numdifftools in /usr/local/lib/python3.10/dist-packages (0.9.41)',\n",
              " 'Requirement already satisfied: numpy>=1.9 in /usr/local/lib/python3.10/dist-packages (from numdifftools) (1.25.2)',\n",
              " 'Requirement already satisfied: scipy>=0.8 in /usr/local/lib/python3.10/dist-packages (from numdifftools) (1.11.4)']"
            ]
          },
          "metadata": {},
          "execution_count": 82
        }
      ]
    },
    {
      "cell_type": "markdown",
      "source": [
        "підключення бібліотек"
      ],
      "metadata": {
        "id": "uGEYtJ7sSt3l"
      }
    },
    {
      "cell_type": "code",
      "execution_count": null,
      "metadata": {
        "id": "O-0wk88z017p"
      },
      "outputs": [],
      "source": [
        "import numpy as np\n",
        "import numdifftools as nd"
      ]
    },
    {
      "cell_type": "markdown",
      "source": [
        "задана функція та похибка"
      ],
      "metadata": {
        "id": "uFaBNfrDSzXv"
      }
    },
    {
      "cell_type": "code",
      "source": [
        "def f(x):#функція\n",
        "  return 3*pow(x, 4) + 4*pow(x,3) - 12*pow(x, 2) - 5\n",
        "eps=0.0001"
      ],
      "metadata": {
        "id": "yOawi11i1t-1"
      },
      "execution_count": null,
      "outputs": []
    },
    {
      "cell_type": "markdown",
      "source": [
        "візьмемо функцію пошуку проміжків з попередньої роботи"
      ],
      "metadata": {
        "id": "fcrFyKYfTE2L"
      }
    },
    {
      "cell_type": "code",
      "source": [
        "def findSegments():\n",
        "  searchRange = np.arange(-5, 5, 1)\n",
        "  a = None\n",
        "  previousFunc = None\n",
        "  currentFunc = None\n",
        "  segments = []\n",
        "  for x in searchRange:\n",
        "    x = round(x, 4)\n",
        "    currentFunc= f(x)\n",
        "    if previousFunc != None and previousFunc * currentFunc< 0:\n",
        "      segments.append((a, x))\n",
        "    a = x\n",
        "    previousFunc = currentFunc\n",
        "  return segments"
      ],
      "metadata": {
        "id": "SPMAUO7R10ji"
      },
      "execution_count": null,
      "outputs": []
    },
    {
      "cell_type": "markdown",
      "source": [
        "Функція за методом Ньютона"
      ],
      "metadata": {
        "id": "N_9DIWuFThhW"
      }
    },
    {
      "cell_type": "code",
      "source": [
        "def nuton(a,b,e,x=None,df=None):\n",
        "  if(x==None):\n",
        "    x = b if f(b) * nd.Derivative(f, n=2)(b) > 0   else a\n",
        "    df = nd.Derivative(f, n=1)(x)\n",
        "\n",
        "  x1 = x - f(x) / df\n",
        "  if abs(x1 - x) > eps:\n",
        "    return nuton(a,b,e,x1,df)\n",
        "\n",
        "  return x1.round(4)"
      ],
      "metadata": {
        "id": "6T3oWJHm-H_7"
      },
      "execution_count": null,
      "outputs": []
    },
    {
      "cell_type": "markdown",
      "source": [
        "Функція за комбінованим методом"
      ],
      "metadata": {
        "id": "OmPwxPQXTsMc"
      }
    },
    {
      "cell_type": "code",
      "source": [
        "def komb(a, b, eps,isFirstIteration=True):\n",
        "   if isFirstIteration:\n",
        "      if  nd.Derivative(f, n=1)(a) * nd.Derivative(f, n=2)(a) <= 0:\n",
        "             a,b=b,a\n",
        "\n",
        "   if abs(a - b) > eps:\n",
        "    a1=a - f(a) * (b - a) / (f(b) - f(a))\n",
        "    db=nd.Derivative(f, n=1)(b)\n",
        "    b1=b - f(b) / (db if db !=0 else eps)\n",
        "\n",
        "    return komb(a1,b1,eps,False)\n",
        "\n",
        "   return ((a + b) / 2).round(4)"
      ],
      "metadata": {
        "id": "VWQzBMqzIEdV"
      },
      "execution_count": null,
      "outputs": []
    },
    {
      "cell_type": "markdown",
      "source": [
        "перевірка значень"
      ],
      "metadata": {
        "id": "sXIBNzDeTb7O"
      }
    },
    {
      "cell_type": "code",
      "source": [
        "print(findSegments())"
      ],
      "metadata": {
        "colab": {
          "base_uri": "https://localhost:8080/"
        },
        "id": "BzkBW9Eo12Qq",
        "outputId": "960819af-426e-4f70-e483-32d2ab3dedce"
      },
      "execution_count": null,
      "outputs": [
        {
          "output_type": "stream",
          "name": "stdout",
          "text": [
            "[(-3, -2), (1, 2)]\n"
          ]
        }
      ]
    },
    {
      "cell_type": "code",
      "source": [
        "for i in range(0,2,1):\n",
        "  print(f\"х{i+1}:{nuton(findSegments()[i][0],findSegments()[i][1],eps)}\")"
      ],
      "metadata": {
        "colab": {
          "base_uri": "https://localhost:8080/"
        },
        "id": "dZE_6jQ_BOCE",
        "outputId": "9ec8c0d4-378d-4d30-e0c1-0c097c51cecf"
      },
      "execution_count": null,
      "outputs": [
        {
          "output_type": "stream",
          "name": "stdout",
          "text": [
            "х1:-2.8239\n",
            "х2:1.5922\n"
          ]
        }
      ]
    },
    {
      "cell_type": "code",
      "source": [
        "for i in range(0,2,1):\n",
        "  print(f\"х{i+1}:{komb(findSegments()[i][0],findSegments()[i][1],eps)}\")"
      ],
      "metadata": {
        "colab": {
          "base_uri": "https://localhost:8080/"
        },
        "id": "DvLvliDuJJ2q",
        "outputId": "2ed768eb-ad6e-4c9c-9e52-3bd9ab67aa71"
      },
      "execution_count": null,
      "outputs": [
        {
          "output_type": "stream",
          "name": "stdout",
          "text": [
            "х1:-2.8239\n",
            "х2:1.5921\n"
          ]
        }
      ]
    },
    {
      "cell_type": "markdown",
      "source": [
        "Результати обчисленнякомбінованим методо і методом Ньютона збігаються з результатами попередньої роботи:"
      ],
      "metadata": {
        "id": "cEVkKe8cUQKR"
      }
    },
    {
      "cell_type": "markdown",
      "source": [
        "![зображення.png](data:image/png;base64,iVBORw0KGgoAAAANSUhEUgAAAroAAAD4CAYAAAAD8kVXAAAgAElEQVR4Xu2dC5BdRZ3/f9TirqDjBgUmCXkIRYhL8QgGjIFl4T+VmEBY5aGJG1YCDpuUFWt2CZJIDZqQJVigxN0pKStZIgaKKCCgloHwMAXFQgiE5VlIxEJDJpMMEY1CbbBkzf90n8c9fU6f5z33zr0zn0tZZu7p/vWvP9333u/5nV93H/TJT37ygPCCAAQgAAEIQAACEIDAMCNwEEJ3mI0o3YEABCAAAQhAAAIQ0AQQukwECEAAAhCAAAQgAIFhSQChOyyHlU5BAAIQgAAEIAABCCB0mQMQgAAEIAABCEAAAsOSAEJ3WA4rnYIABCAAAQhAAAIQQOgyByAAAQhAAAIQgAAEhiUBhO6wHFY6BQEIQAACEIAABCBQWOgODAxADQIQgAAEIAABCEAAAi1PAKHb8kOEgxCAAAQgAAEIQAACZQggdMtQow4EIAABCEAAAhCAQMsTQOi2/BDhIAQgAAEIQAACEIBAGQII3TLUqAMBCEAAAhCAAAQg0PIEELotP0Q4CAEIQAACEIAABCBQhgBCtww16kAAAhCAAAQgAAEItDwBhG7LDxEOQgACEIAABCAAAQiUIYDQLUONOhCAAAQgAAEIQAACLU8AodvyQ4SDEIAABCAAAQhAAAJlCCB0y1CjDgQgAAEIQAACEIBAyxOICd33DjlI9vzDB2Xcg29bnecI4JYfUxyEAAQgAAEIQAACEHAIGEJXidxfLD5cDjj/HX/zW3Lw/gMxSAhd5g0EIAABCEAAAhCAQDsQCIRuHpGrOoTQbYdhxUcIQAACEIAABCAAAS1084rcIkK3u7tbPvvZz2rC/f398i//8i+FaP/Xf/2XjBs3Ttf50Y9+JOvWrStUv3GFx8ii9VfKPPm5LFrwgLzWqIaOfVseu1pkSXeHPOu3cfgJcvOCk2TgZxtklZwhPz5vlNy3fqOs/22jnIjYrav9Y6V7bZ+Mu+tcufaRcv4e271W+i5y54RsXS3nJhk6tlvW9l0kXknpv6dHFq77Vc5GXT8vknukZ+E6yVurZnyo6+fsZsflcus0kesfuaVxczinK+1T7FhZOOOrzty7XNZaM7vek+Xr3hL5RqdcW3ziDD2GMaPlrCXvl+1X/Ub2yCj5+DdHy9urX5XXdg+9a3gAgZFB4G9k0tLjZbLslkdv3CPvjIxON7yXB536/6YfyEpXCHuRN6KrhO748eNlxYoVsU6ERbB/MUnMqvo7d+4cNkJ31qpvyfw3bpIFa9J+PfbL+gf3inxrgix4OISvLqHp2/lbWXDZHLngwzuk76YnZHORKVZX+/ULXd9VLXjH3ZUgdGfI8vuXiKyOCOqI+E0Wy0MtVOttP8+AzpR/v/BKkadmy9cG8pR3y5zWe6N88bRa+cH7vi0r1lepgqbIoh/PlyleE9Xbz9/XxJJjV8gjnxS58d4V8pCt0MzfyY6viFw968OywXL9g+d8TI7b86r8z3PuD1rHw885/67Ar4pMjF5wipx6gmvs7c2vyGMP/Kkiy61ixhMSR/xetmlBzwsCrUQAoduI0TjoAz/6xwNpObnRRqsSuspuniht6wnd+oYhj9Cdf+0bsmjnWDnrloPNxrTQnChPqyiuhP6dN6I72YsCP7VPLnB+rMsJ3bLtN0noakE7Tu4691oxAsex95shKOubK42q/alPbJJ/+uOX5bJX6wk7uqJU+pbKmkJ3S8m9UkL641s8e8fMlhWrT5TnlnxTfvJ6o0iUszvpY7fIdz90p8x4OnwXWrM19fJBuXf8h2Ti8kNiDSghOfZFJW7VD9rRIrcTMS03CiVqnfJROW++E7He/K5M7hKEbgmEVIFAOxI46NAfnXcgaeGZrUPtK3TdlIMJG+4QWXaxTNed2yt3LrpB1nj5B5MWLZNr5Da5Ti6RNfOO0CV23lmLvqrr/vuy5Q7p6g2HYtLtG3XDYKN2VMrCzX+WNQkRocRJ5kVb5amNsviJP+hiXZ+eLz2T/MitiuSeIDtvdaK4WvAmCV0v4isvypJbX5bqNIYvdHukf66TGqDzCvrlnp6FEs4qmLH8flniPFJ3X1udwGxEsDrvpkZ0cwtdbcgRxdNkq+dDampEpKx2r0h9t4KbFuHnVKgehiLP2akZ0fphPj7f1U6+yxJxEcb5ikpZmDlOfpAUkUycYPELSpjO6a86quu3M0Y+c/MVcsrTxewb86c/nH6Sh0/6+NQIqIj4PNn5cFIKg3oi80d5fXEohUGLrMOsdPNFTlUqwdEy1rCwX7YHqQWWCLFqc+a7xiPQcMRWJBzVdOuPfakWxdVl5dfys/X7glbN+s7bL6dc3xt6/KrTIsZIR6i8ayvuw2T3q9d5FYi6evYlFIU27av+jZG3b3SiuHosCgrdXP6LGHxs/Y/NgPgYpvU/i3/yx9ePZEdKhH2UaJk4/1j7uevb2x/Y4D/RyJp/WfM767rqd0b/bJ/R3P3L98WZNn7qac/ZXd7NceRz5VtP558y/7y+G0+QjO+HMvwcrww++RgMRSmdumDbXSHJmXYXuvPGi2y54SvS+6CIFp+nvxjk2gZidKeXfzvpHFm/5iR5MiSGFRddbsJDVqE7b3xNPNvKZUV006JBmRMkb8R3CIWuEnm+uIsKVvX3xTsWBjm8WrQcFc+VtQldQyQaoDwxaBXArrCZttXM4bUL6XhZXW7a1lgub5IQT0+5qDldrn1fpNXErc1OVjQyc475BXTE9UjZeP5t8kzuSkUKFo8Y6/kitdxt8++aiDXmX2j88o6P6kVWVNz+VCYUxZVwPmwRLrWyphDN/qGqpU24NnT9Tl+MRoSG/6Nv/OCabegf5iP3BEI4KoyNv5VQ/MIoEUfEDihxrvof/nt3XOho+yfuy5+rqMXoqJp9/9/R7JqyQjfVf49n6MbAdqPgc5/8ZjQtJE//0/mnz6Ks+ZGnfbePge8WoRS+UTLHL6H94IYja/7l8z9LyCX759BLnRf5+BQZg+jnx6+b9H5s7kRuZFM/fxUI3dh8ttxIl/sma3ythh0YUSRHN22xWnWpC37E1RW57usUWbX5U/KGJ2Sjwjd63a+VJnQnbAjZn3WpbJ4/aCxaSxe6ajHLgHRtsaQt5JwLx5wxR1Yft88RHxNl7C9r0V2jeqrQzdlQ4WKW1IUZy+X+uf3Ji74SrlcW0fUirPmErhdJDoRRcipGqtC9aJc1Sh3Gaa1vFeoqH3mu9OuIdB6+ajHVd2R6f/m0hXCebiNzaHU7YzfLdYs3ya5ccy3MwqtgMLONl1nHvVnKHh9lXd8wjHtKvpSwmE/fsE4/VC4MLybVC7wcIaZyQ7XwE3m2jgUnRYVuDGOiUDlER4879u6XjsGakPUjYr6YMH+QLYvXwovbvP5uf2mUs9Dm184C26NlqpMhO3DiaDd9wyr8iy+Ic8XVuzIgh0lHKDpt9L200BVJ9H93Rv9DDhhi0X/fWAjovxm12UChW6J9LQz9JwaZ9fMJVVeI2uZfvvqJQjfTvwyhm6d+5vdUvvFLFroRBsbnN2v+1cnPvzEOP+FB6IqkCd3ofFBi9qijjrLuzNB0oRuL1MZnb6OF7jE/jCxCy/wAhQvkSD1oVaFrWzBmPH52+zlUQldECaMz5AmVTpGUIpHhX3Z6QkL/rKI/LN7yC93xryQsQtNR2i7pDKbTy/K9lIitFqPOkqsvrXo+3wzNaf+oBVfJNReIbCqSn2ubO9orP8KdLXSDuZVnZw+1KO34/kShK2pR2uffFwjd2CPHgFjxx/Mdfl1LtLX22NsrlPX4PLhei1htP/J4nbLw6JujjYitRHZiMH6Q/Uf7sZngPZof7Ymi20WmqhQGnZawWzr8BXkST7OICut8k8x7PJ22ar2M0PV/1JP83+OlZiT1PxRVtgpdq2iIihNTzKRF/uKsMoROifYNoZtZ35a6YE+dsc+/rNSLjOuZ/mUI3Tz1MydovvFLHteImI3daKjPVfTlp8bUyc8zm5U6kYlgiAoMSUQ32tcZM2bIlVdeKeecc04MQ0OFrk5N6JQNXd8XFeS1C9jmC926I7ofeVH65Ezpkcfl/J/ujHegJYWuJY2g0RFdW95thlBVj8PPeMLZ0UGcaPQZT1h3fsj3CNx7lL4rvk1aK0d0jcnUdYl896I3C0Rds7/lSolcbdYS0TWaswjdlJuVIJ/aMj7KbFYKiDUFKRTFlchj/2wy8RJuTt+73qKqfBGb8KNbQ6h4jzbHihPFPcK1+U7Ux0hUKzOiG3ZZ/SiftE+nOdQi0ftrO09ooehvbeZXLBnRddIptjkR42h+ceBOWaGb5v9z+X0tHdFN5Z81gzLmR56IZbRMvRHdcKqJn7qSOP/yze+WjujmHL9EoZvGP3M7wDr5qelljJd3YxBZA5A1C4fqeksIXbVn7q5du6xbkTVS6Ko0gmVSW1TWDKEbT48wh76uHF1DwI6X3ivPFFF77m6PTK+G5ujOctJBljmL/bbIDV29+gbCfWVFHKPbgrl/T2tYRNezb9mPN1WoKvHtCNzVMlcm3mEupAt6mrr9WW0siuXyxm8EzBzmLL5uu1kCLf8XkbtYbPZANKKbNP45LCvh3NOZEclNth/N0TVbjPNJL5/+5KBUjm5IGCihO9WJmtazfVcxoesuZpNg8Y+3uC0S0VURYX+BUFYObtb1MH/7j3f4xzeeA2nmEOeYP4aAjfY3VL+E0M32P56jm+SxVej6NxrRxYBBDnXcfqUR3Rztx9rLyNG15YAbQtQidJPnX71CLcf8KpijW3R+RnNci+bopvPPmn/18rPYJ3UhPXUhfBiE+jJIOxCiaqGrFqMFr8iOB+lC1zsoIlxfGQpsWHKALTm6zm2Re+CEb6eqXRe0eJ0oz4SFbeQ9dxeG6NdvdD/dHKkPGb85s1ZtlmXTdzo7WiwIdrTIFrqOUSUigy0XnEfOq7fKtLnOnqX64Ib4injtRlSopu66UDtEwq0a3ms3p33fj9iBEln1LdctuwKEd2SI988T5z5/664CoT7ZIuKld13whO1RtcFPytG1j3+WUDH30K2VjqdPJNu3MA7mR9o11VrW+IT9L7HrgqoeiWrGFySlMapg1wV/gZluxnmkuWGfjJ3p5wl7jzYHa7so1H5Y3chrLC3Cd9ciloOeeOkVST/qpuiL9LHIim6vb7VV/B5vZ6cL/z17+ki+1JF8/lseD1tWz9uFriKW1P+Ex84x/mnzJ0vopLXvr+YP7xDh8TUiemnjZ+9DdNeFydb5t89pLMv/rOvp/dPkMm+Ays7PPOP3exlj+4x588edu1n80+ZfFp88EX9voaefhoPQLZajm/bxrFroGovFsn57h+h64j66Q+RP0WYnLVrvbMPWH4noFrVC+UYRyIpG1ttuo8e/nP3kxYNF+5sVFa/rqUxRZ5pS3vIj6LVbLKrYFGeHYSPwb+9BZfyGevxaInUBoRslkHAy2lDPlqz2Jy1ycp7nyfhY2kJWRa43l0C5k9EyfWz0+NdlvyKhW+fJaJkMW7SAiii5B12YDiJ0mzNg8G8O50a1wvg1imw+u4bQvfrqq0UtDHvvvfekr69PNm7cGLNSZB/dz372s7p+2vZhSW6G0xvSUhvydVOVsm0vlr9200uqgyOudvb+N7YnaroXNDhcCagUBudUiesTtscaft2uQuiq7dm+6uS8JB0UobYHfEvkG6GDIoYfSHoEAQhAoK0IBEJ32rRpsnTpUrniiiuks7NTLr30Ulm8eHFpodtWFHAWAhCAAAQgAAEIQGDYEQiE7qxZs+Tss88WFdVNe+WN6A47UnQIAhCAAAQgAAEIQKCtCCRGdNWetitXriSi21bDibMQgAAEIAABCEAAAj4BI0dX7XBw5plnVpKjC2IIQAACEIAABCAAAQgMJYGG7bowlJ2ibQhAAAIQgAAEIAABCCB0mQMQgAAEIAABCEAAAsOSAEK38LB6J5vJz2XRggfktcL1c1awbS92+Aly84KTZECdfibqJLRRct/6jbL+tzlt1lusrvbr395JH5nrHx1mObo36J4+Ha12Clr/PT2ycN2vcvbeOyErdvJZzuqJJ6c1q37Odkbc9mKKyzDfHkwfqfp+2X7Vb2SPPmVrtLy9+lV5zT/JKOfUoBgEIFCWgHc6meyWR2/cI++UNUO9SgkgdAvjrE/ozlr1LZn/xk2yYE3ar0/CgRF1CU3V0fHSe+WZcprX511PbZTFT/whP4G62q9f6PqOasE77i4599pHLL67x+SKcbyv0jim+NUVrWJ5JAjdtAMj/KN+40fvZk8U8xjfpCOCs+00sESdBz6oAxKO2/Oqc3BC8mlHDfQ+03T4mNu3N78ijz3wp8w67VPAPIJ1+PWvfUYCT5MIIHRbcW4gdJs8KnmEbuIRwFpoTpSnVRRXQv/OGdHt+vR8mb7diQZvdzodtpWzvlGncPtNErpa0I6Tu869VgwZHHu/XkHb5IlTYXOJRwB3XSLf7emUTfcNyuwLRL53/m3yTIF2T+u9UT6+Zams2exUOma2rFh9ojy35Jvyk9cLGGlC0XqO8K2dcKR+0I4WuZ2IaROGTDdhnC6lo9ejZICIdbPw0w4E2pbACBK6/slod4gsu1im6yHbK3cuukHWePkHkxYtk2vkNrlOLpE1847QJXbeWYu+quv++7LlDunqDZ+HmW7fqBueLlE7KmXh5j/Lmlkflg1FppUXbZVQlFYJ255JO6TvpidEaQ/z9bey4LI58olfRqO67vsXyIuy5NaXpTqN4gvdHumf2yduBkK/3NOzUMJZBTOW3y9LnBO73NdWJzAbEazOu6kR3dxCVxtyRPE02er5kJoaESmr3StS360g3Wv9vns9DEWes1MzovXDfHy+q53j9JaIizDOV1TKwsxx8oN7V8hDxoRQkdyZMrDYEbda8BYXuub8ciPDpzz9bVmxPv+zc2P8+++RnoXrxE06ydO/dL41/1REe57sfDjphDP1ROWP8vri0Alnp3xUzpt/mPUTmS+yaEYjXUP7ZXsg1CwRYtXmzHeNR6DhiK3I72WbTlNQL7f+2JdqUVxdVn4tP1u/L/DbrO+8/XLK9b2hx69aWI6RjlB511bch8nuV6fzCl+zoqu96dmXUBQ6bj9sI97f1BZy+e+K6VNP8CzZ+h9rJD6Gaf3P4p/cBy9SGLC1+OjNgULth/uYWt/e/sAG/1jorPmXNb+zrtfmeGL/bJ/R3P3LmJ/e5bTx08dhdx3ilox8rnzrsfqGfynzzxubjodDx3Ab3w9l+DleRdrPR6H9So04oTtvvMiWG74ivQ+KaPF5+otBrm0gRnd6+beTzpH1a06SJ0NiWA2xLjfhIavQnTe+Jp5t5bIiulMvH5R7x39IJi73PjBF5lShiK+bxiAq31dFeINXY4WuErhbPXEXFazq74t3LBQ/I0GLnqPCYsd10iZ0DZFoMPPEoFUAu8Jo2lYzh9cupONldblpW0NiLNm/JL9tw1uufV/k1cStzU5WNFP7U4nQddMYpM+L8OaYx3q8ZXWQkmL+XROxxvwJ8U9PaTEdSIxqe8XsT1VCUVwJ58Pm6JyliClEs3+oamkTrjFdv9MXoxGh4f/oGz+4Zhv6h/nIPYEQjgpj428lFL8wSsQRWjqKqvof/nt3XOho+yfuy5+rGI7Sar5pEVv3xkECoZUxBpn+ezxDNwa2GwWf++Q3o2khefqfzj+9B1nzI0/7bh8D3y1CKXyjZI5fQvvOR9y92cqaf/n8zxJyyf459PSc9/2J0szHp8gYRD8/ft2k92NzJ3Ijm/r5q0Doxuaz5Ua63DdZ69cacUJ3wgZX5LqvU2TV5k/JG56QjQrf6HW/VprQNezPulQ2zx80Fq2lC933ZPm6AenaMlbOuuXgUrPnmDPmyOrj9jmPnCfK2Fi0tmZSR3s/UnXUNs1lS+rCjOVy/9z+mFAMrCRcryyi60UJ8wldT2AHwio5FSPJP1eM77JGqcPkrPWtQl3lI8+Vfh2RzsNXLcb6jkzv/7Jc9mrK4rwKhK5KY/ji2M1y3eJNsivXTA73xatg9NnG26yTl6+yrgX/uKfkS4/cYl1Qqm84px8qF3Z3yLOB/0pcOeJL/bBr4STybB0LTooK3RjGRKFyiBaBHXv3S8dgTcj6UV9fTJg/yJbFa+HFbV5/t780SiY7YvBZOVqmOvJm4MTRbvqGVfgXXxDniqt3ZUAOk45QdDrad1Pk55hgWf7vzuh/qAlDLPrvGwsB/TejNhsodEu0r4Wh/8Qgs34+oeoKUdv8y1c/Uehm+pchdPPUz5xG+cYvWehGGBif36z5Vyc/p28I3cwBrhVo3yOA/dSCDKEbi9TG4TRa6B7zwwmy4OECg2IUzY7IajH8SWnujg3Bo+dzg4itRIWsbcGY8fja7ehQCV0RJazOkCdUOkVSikSGf9npCQn9s4r+sPjLL3THvzJbvjaQMr/qFLpHLbhKrnFyfDcVyc+1jb120Y9QZwvdYG7k2ZlDLUo7vj9R6MrM38mOz78vELqxR44BvuKP5zv8upZoa+2xrFco6/F5cL0Wsdp+5PE6ZeHRN0cbEVuJ7MRg/CD7j/Zj08J7ND/aE0W3i0xVKQw6LWG3dDjpElqcSDzNIiqs832jZS/mcR8RSyjtI4dlX1Qk+b/HS81I6n8o+8YqdK3Rsag4McVMWuQv3qMMoVOifUPoZta3pS7YU2fs8y8r9SLjeqZ/GUI3T/3MaZRv/JLHNSJmYzca6nMVffmpMXXy88xmpU5kImjTAiM7oqtTEzplQ9f3RQV57QK2+UK37oiuE6ntkzOlRx6X83+60+jA0IhcLUF0msC4u5KEriWNoNERXVvebYZQVY/Tz3jC6YM40egznrDu/JDvEbr3KH5X7VG9P1DtHNEtJXJ1xy0RXWPmWuZPys1GkA9t4avMZqVwWFOIQlFciTz2L/P97wq2d41Hv0Ue3RpCxX907OT9dhzh2nwn6mMkqpUZ0Q13Sv0on7RPpznUIkP7dV6w9lkLRX9rM79iyYiuk06xzYkYR/OLldVSIldVzPL/ufy+lo7opvLPmkEZQjdPxDJapt6IrrEg0LvRSpx/dUYk8/QvLXUhT/2sIcg5folCN41/5naAdfJTfYsu4CR1IXnEh1NEV6URLJPaorJmCN14eoTJuq4c3clqb10nLVIvPrPk4OrrWXvvZkeE078PZjnpIMucxX5b5IauXn0D4b6yhG50WzD372kNi+h69i1bjKUKVSW+HYG7WubKxDvMhXSpQtUCLTXFIbZ9WvxGwMxhzuLrOpAl8HSh1Ihu0vj69ZxdG1Ijucn1ozm6JrJ4/9LLp0f+S+Xohn4YlNCd6kRN69m+q5jQjeakeovbIhFdFRH2Fwhl5eBmXQ/zt/94h3984zmQhdMLDKFiycHV1x0xXWKnhWz/LY92E77orEI3aTFgkEMdt19pRDdH+7H2MnJ0bTngxo2YRegmz796hVqO+VUwR7fo/Iw++i+ao5vOP2v+1cuP1IUDWTcy4evtLnTVYrTgFdnxIF3oevvnhusrQ4ENS2qEJUfXua2SReuvlMCPqnZd0CJ2ojwTXlxmvGfuoVuDEN2VoV6hKzJr1WZZNn2ns6PFgmBHi2yh63ikRGSw5YLzyHr1Vpk2V+RGvfI+vqJe9yEqVFN3XagdIuFWDUWX89pPPBAiyz/LdcuuAv5T92B8jP554ty/aN2VICU1RNVL3HVBROfV+pssBw7E99O1j6+5h25tfuWtr2pYGAX9T7uWUNdyk+T6VWLXBVUtEhWML0hK+yatYNcFY1W580hzwz4ZO9PPE/YebQ7WdlGo/bC6kddYWoTvrkUs14bftZf0o26Kvkgfi6zo9vpWW8Xv8XZ2unDfs/FTXuZLHcnnv+XxsGX1vF3oKl+S+p/w2DnGP23+ZAmdtPb91fzhHSI8vsauHmnjZ+9DdNeFydb5p3b9yPI/63p6/zS5VKGbo34i/jzj93sZY/uMefPHTRnI4p82/7L45In4RxZ3EtFN/sC1u9A1F6OlfbEM3bXEfXSHzqVCLU9atN7Zhq0/EtEtZILCDSSQFc3Marre8S1Xv7p9mLOi2nU9VcmCNyTXLT+Cnh/FoopD4vwwaBT+7T2IjF97j5/IyM7RbdnRSzgZrWX99RybtMjJeZ7nJE1E0xZa3fGR5l/ayWgpLOod37rqVyR06zwZrV1niooojX0xtAcnQrepQwn/puKuvDHGr3KkTTWI0G0q7gKNqYMjrnb2/je2NypQn6IQSCOgUhicUyWuT9heq/XgVSF01fZqX3VyVpIOilDb+70l8o3QQRGtBwKPIAABCECgAIERJHQLUKEoBCAAAQhAAAIQgEDbE0Dotv0Q0gEIQAACEIAABCAAARsBhC7zAgIQgAAEIAABCEBgWBJA6A7LYaVTEIAABCAAAQhAAAIIXeYABCAAAQhAAAIQgMCwJIDQHZbDSqcgAAEIQAACEIAABBC6zAEIQAACEIAABCAAgWFJAKE7LIeVTkEAAhCAAAQgAAEIIHSZAxCAAAQgAAEIQAACw5IAQndYDiudggAEIAABCEAAAhBA6DIHIAABCEAAAhCAAASGJQGE7rAcVjoFAQhAAAIQgAAEIFBY6IIMAhCAAAQgAAEIQAAC7UAAodsOo4SPEIAABCAAAQhAAAKFCSB0CyOjAgQgAAEIQAACEIBAOxBA6LbDKOEjBCAAAQhAAAIQgEBhAgjdwsioAAEIQAACEIAABCDQDgQQuu0wSvgIAQhAAAIQgAAEIFCYAEK3MDIqQAACEIAABCAAAQi0AwGEbjuMEj5CAAIQgAAEIAABCBQmgNAtjIwKEIAABCAAAQhAAALtQACh2w6jhI8QgAAEIAABCEAAAoUJIHQLI6MCBCAAAQhAAAIQgEA7EEDotsMo4SMEIAABCEAAAhCAQGECCN3CyKgAAQhAAAIQgAAEINAOBBC6xihNlM+t+rrMHv2CrOvukyebOoKnS8+6bjnZa3PPppXSe3vA+eUAACAASURBVPeOAh6Y9UX2yKaVvVIzkW7/9J510u037rQab99n47n0glO+r7mECsCgKAQgAAEIQAACEBCErj8JTu9xxG2nbNo0KLNnS9OFrhKap27rFq0dJ35OVn19ijxvCNW02eqK0CnP18TxxM+tkq9PeV5W9t4tSi4Xs++KYgeC649E7cfb47MEAQhAAAIQgAAEWo3AyBC6Wjg66jUUJXUjmH7kVgm3z8iuXieKqwVvktD1opqyKRCQjRnQokIyKkx9sTxGNloj09n2FZ85uz3hrPlFbClOc3Y3mENj6GIVAhCAAAQgAIGRQWBkCF0dlAxFSSUlYtoSQtciXDPmo47gai2v0hXc+p2J6Q8Z9qPC1sbEJn5HxmeGXkIAAhCAAAQg0CYERo7Q1VpXPc4flBecTNjO0GN+Y6xShW5zRlVHmztLRI21726i7QtB2kHc5yT74TxdM0fXnsowNLnMzRkDWoEABCAAAQhAoP0JjCih6+eazk5LPWiU0PXSJ0YHc8a+4M2MzOafYGYqhrfwzLJgLK99bU9CC84M/52FbuuelyndSakR+f2mJAQgAAEIQAACEGgUgREldLXIG7NRyTdTxIXpNkro5hjBvCI0Zsq2eM3yXiH7WTm46vqp29h5Ice4UgQCEIAABCAAgaEhMHKEriFgU3JUhypH19/1IXWnBX+LsGg02JKTG+1HLvv+JPQW3Q0mbCE2hDcDQ/MxoVUIQAACEIAABNqRwMgQul7uqpG3Gnkvuo+sO5hRQdmoXReie+D6U8kuaE+O+eWUj6VGhPfRzbIf2SPXMRfdR9fgs6dE/nA7fjrwGQIQgAAEIACBtiYwMoRuWw8RzkMAAhCAAAQgAAEIlCGA0C1DjToQgAAEIAABCEAAAi1PAKHb8kOEgxCAAAQgAAEIQAACZQggdMtQow4EIAABCEAAAhCAQMsTQOi2/BDhIAQgAAEIQAACEIBAGQII3TLUqAMBCEAAAhCAAAQg0PIEELotP0Q4CAEIQAACEIAABCBQhgBCtww16kAAAhCAAAQgAAEItDwBhG4wROahCtEDE6oZSf9ghuhBENnW3eN7RxsFTR8jhz68ED3VLE//yvuX3QNKQAACEIAABCAAgeYSQOh6vNXJX6du65a+J5039CljU+T51ON4Cw6UfwTvpkGZPVtkXXefqKbyvpTQXShrpffuHZYqrkCd8vxK73r0b5HM/tXpX95+UA4CEIAABCAAAQg0i8DIELre8biyyReCrvDrPjkpshoXiu6AlD0CWNX7jOzqdcStFpQVC13dvzGyMSyeVTtzdsvK3rslLo1twrg+/5o1YWkHAhCAAAQgAAEI5CUwMoSu1qihKK1kRWzdx/xKkeoIb/AqK3RDJhohdG02beI3cCOpf06Bkv7lnXCUgwAEIAABCEAAAs0iMHKErta6Tp7rlEF5QU6WzuAxfxy1jvZ2bkqIhtY5NCWFZCxHd0/Yv6hwTc+1Te1fSf/qpEJ1CEAAAhCAAAQgUDmBESV086QeuIJSnCyHXrGmw9Y7BBUJyZhY9dIz3OVqe2TTuudlSnckncEX+2n9q8i/ejFRHwIQgAAEIAABCNRLYEQJXS1ix2wUJ17r/BfdlcCL+DZS5KrRqkpIZtlR10/dJt2h3ItcIj7Lbr0zjvoQgAAEIAABCECgSQRGjtA1BJwlR9XfdSA1ktvoHF1/C7Cs7cc8PwbjYl3PG5tYzdW/CoV4kyYwzUAAAhCAAAQgAIEkAiND6GqRd7K8EF5cZrxn7jFbgxUVnOWFrrvLQ3QYovaThG5kj1zHTHSfX8O+kb+rla9eXBdr3slW9rc5y+cfHyQIQAACEIAABCDQPgRGhtBtn/HAUwhAAAIQgAAEIACBigggdCsCiRkIQAACEIAABCAAgdYigNBtrfHAGwhAAAIQgAAEIACBigggdCsCiRkIQAACEIAABCAAgdYigNBtrfHAGwhAAAIQgAAEIACBigggdCsCiRkIQAACEIAABCAAgdYigNBtrfHAGwhAAAIQgAAEIACBigggdCsCiRkIQAACEIAABCAAgdYigNBtrfHAGwhAAAIQgAAEIACBigggdCsCiRkIQAACEIAABCAAgdYigNBtrfHAGwhAAAIQgAAEIACBigggdCsCiRkIQAACEIAABCAAgdYigNBtrfHAGwhAAAIQgAAEIACBigggdCsCiRkIQAACEIAABCAAgdYigNBtrfHAGwhAAAIQgAAEIACBigggdCsCiRkIQAACEIAABCAAgdYigNBtrfHAGwhAAAIQgAAEIACBigggdCsCiRkIQAACEIAABCAAgdYigNBtrfHAGwhAAAIQgAAEIACBigggdCsCiRkIQAACEIAABCAAgdYigNBtrfHAGwhAAAIQgAAEIACBigggdCsCiRkIQAACEIAABCAAgdYigNBtrfHAGwhAAAIQgAAEIACBiggUFroHDhyoqGnMQAACEIAABCAAAQhAoHEEcgtdX+BG/79xrmEZAhCAAAQgAAEIQAAC5QkUErpK5Ib/5zdLlLf8AFATAhCAAAQgAAEIQKAxBHIJ3bC4HT9+fGM8qcjqtm3bKrKEGQhAAAIQgAAEIACBdiZQSOj+5S9/kQkTJrR0fxG6LT08OAcBCEAAAhCAAASaRiC30FUiV/1v4sSJTXOuTEMI3TLUqAMBCEAAAhCAAASGHwGE7vAbU3oEAQhAAAIQgAAEIOAQQOgyDSAAAQhAAAIQgAAEhiWBQkL3//7v/+SjH/1oS4MgdaGlhwfnIAABCEAAAhCAQNMIIHSbhpqGIAABCEAAAhCAAASaSQCh20zatAUBCEAAAhCAAAQg0DQCCN2moaYhCEAAAhCAAAQgAIFmEkDoNpM2bUEAAhCAAAQgAAEINI0AQrdpqGkIAhCAAAQgAAEIQKCZBGJC971DDpI9//BBGffg24Ef6ghgdVhEFbsunHnmmTJ16lT9v/Dr2WefFbVjwn//93/X1X92XagLH5UhAAEIQAACEIDAsCFgCF0lcn+x+HA54Px3/M1vycH7D+iOViF01Ylq//qv/ypHHHFEKry9e/fKf/7nf8qOHTtKQUbolsJGJQhAAAIQgAAEIDDsCARCN0nkViF0VRR34cKFheCtXbtWHn/88UJ1VGGEbmFkVIAABCAAAQhAAALDkoAWumkit16hqyK51113XSl411xzTeHIbuOF7hhZtP5KmSc/l0ULHpDXSvUsR6Vj35bHrhZZ0t0hz/rFDz9Bbl5wkgz8bIOskjPkx+eNkvvWb5T1v81hr4oiDW3/WOle2yfj7jpXrn2kCmdz2JixXO6f2y89C9fJr6LFOy6XW6eJXP/ILY0b4xwutleRY2XhjK+KbL1c1tYyn0JdeE+Wr3tL5Budcm0MeBv0dMxoOWvJ+2X7Vb+RPTJKPv7N0fL26lfltd1t4DsuQgACEBihBA469f9NP2BLVwjzqCd14dvf/rYcfvjhBl6VnvC///u/okRw2kuVW7JkSaGhaXWhO2vVt2T+GzfJgjVpv477Zf2De0W+NUEWPBzqfiVC829lwWVz5IIP75C+m56QzUXoVtG+EpdLHAXpvfrv6ZGF65TqaSWhO1P+/cIrRZ6aLV8byA/otN4b5Yun1coP3vdtWbG+ShU0RRb9eL5M8Zqo3n7+viaWHLtCHvmkyI33rpCHbIVm/k52fEXk6lkflg2W6x8852Ny3J5X5X+e+xuZtPR46Xj4OeffFfhVkYnRC06RU09wjb29+RV57IE/VWS5Vcy43Ccf8XvZpgU9LwhAAALtTeCgD/zoH52lZmZObrRLZYVuUsrCL37xC7n++utFXb/44ovlAx/4QCLFoikMjRe69Q14HqE7/9o3ZNHOsXLWLQebjWmhOVGeVlFcCf07b0R3shcFfmqfXOCIkXJCt3z7x3avlb6LRO7pWSha2yp5271cznrsWufv1hG6n/rEJvmnP35ZLnu1nrCjK0qlb6msKXQ3kTy/lJD++BbP3jGzZcXqE+W5Jd+Un7xe35ysuvakj90i3/3QnTLj6fBdWq2VqZcPyr3jPyQTlx8Sa1oJybEvKnGrBNfRIrcTMa16fBLtnfJROW++E7He/K5M7nLSwBC6TUNPQxCAQOMIHHToj847EF54ZmuqrND9t3/7t9juCsq+L3TVv5XInTVrllxwwQXWXqrdGP7jP/4jN4FkoeumHEzYcIfIsotlura4V+5cdIOs8fIPJi1aJtfIbXKdXCJr5rmL5nbeWYu+quv++7LlDunqDYea0u0bdcO9idpRKQs3/1nWJES8EkF40VZ5aqMsfuIPuljXp+dLzyQ/cqsiuSfIzludKK4WvElC14v4youy5NaXpToNNUOW3+9E51cnpSb4QrdH+uf2yUXjVA/6DVHsR33da+q11TF3rfiZDkpIL5Ubnf+WOoLaLVSLGLs1Ziy/X0IBZVXATF1QKQszx8kPkiKSuWeiiBKmc/qrjur6DoyRz9x8hZzydDH7Rv+Nvvv8Vzv5MkvEjbln8XdGwDqeKiI+T3Y+nJTCoJ5Y/FFeXxxKYdAi6zAr3XyRU5VKcLSMNSzsl+1BaoElQqzanPmuPHrjHnnHqxeO2IqEo5pu/bEv1aK4uqz8Wn62fl/QqlnfefvllOt7d9fa1mkRY6QjVN61FfdhcrCet0DU1bMvoSi0aV/1b4y8faMTxdVjUVDo5vJfxOBj639sBsTHMK3/WfwTP76ZfFRNP9rtW4mPTcfDvxaZ78/DsO9undL+FfjeoSgEIGAS0KkL/u4KSXDKCt3bb7/dajIsdP0CajcGFd2Nbjumrn/hC1/IPW5ZQnfeeJEtN3xFeh8U0eLz9BeDXNtAjO708m8nnSPr15wkT4bEsHJEl5vwkFXozhtfE8+2clkR3bRoVyaEvBHfoRC6x3bL2r5xcldImJr9cYWW0qe+eNIR4HF3ybk6ade9Pm2rn+qgosHO9WlbA6HqRowdA76A021Ok61eBFmLPFnt2XNMWnJ0s6KRmWPgF9AR1yNl4/m3yTO5KxUpWDxiHO2/+XcC/yjfYDzSfc2KitufWoSiuBLOhy3CpVbWFKLZQreWNhESJZ2+GI0IXV+YG0LWbEPZO/vIPYEQjgpj428ltL4wSsQRsQNKnKv+h//eHRfa2v6J+wyhnkpKi7lRNfv+v6PZNWWFbqr/nsgL3RjYbhR8MTj5zWhaSJ7+p/PPnEWpfLLar4nggQ1uuk18fOr0L7MDFIAABGwEGnpgRBGh6zv3d3/3d1rwhvN3qxS6Eza4Itd9nSKrNn9K3vCEbFT4Rq/7tdKErmF/1qWyef6gsWgtXeiqxToD0rXFkraQc/4ec8YcWX3cPkdcTZSxv6xFd43qqUI3Z0NFi+ncXBXQrUVgbULXWIwWFqJWoayixHOl3xOyUeHrKNnQdbOsbjsmdNViqu/I9P7yaQvhPN1G5tDqdsZulusWb5JducbC0n+DqS11xML3ol0pY1hzRN8wjHtKvpSwmE/f0E0/VC4ML7bUC7wcIaYemWvhJ/JsKNqaq5uhQkWFbsy+EfENC51DdPS4Y+9+6RisCVk/4ufnFZtC17J4Lby4zevv9pdGyWRHDD4rR8tUJ0N24MTRbvqGVfgXXxDniq93ZUAOk45QdNroe2mhK5Lo/+6M/kfGLSZ0jYWAfuGozfqFZCKfzPZtOeXV+1f0M0B5CEBABKEbFbqxSG18mjRa6B7zw8gitEIzNUfqQTsKXesOCaY4MyPAEWg2oZwgdMe/krAITUdpu6QzMP2yfC8lYqvFqLPk6kurns83gjntH7XgKrnGyfTZVCQ/V/f/IgmyPgKP/PSEbKGrqgRRc/XH1lB0PNpDtSjt+P5EoStqUdrn3xcI3dgj3cBe8cfzHX5dS7S19tjbK5T1+Dy4XhO62488XqcsPPrmaCNiK5GdGAyh6z/aj80E7/H2aC+NwnkINlWlMOi0id3S4S/Ik3iaRVRY55tkXuRRQmkT0YplhK5/U5Dk/x4vNSOp/6GospoLMaFrSTOJ998UltGIel18MtvPI3Sr8C9fLygFAQjUCLSM0FU7M/zzP/9zw1MXjIirTk3olA1d3xcV5LUL2OYL3bojuh95UfrkTOmRx+X8n+6Md2AohK6OrubJ0Q3l8JaJ6CY9WrcI3XgEuP6IrgG76xL57kVvFoi6Zn81lRK52qwloms0ZxG6qekmXqrDLrvYzUoBsabohKK4Ennsn00mXkILna53vUVVWakL8UfTYovoihPFPcK1+U7Ux0jULzOiG3ZZtXXSPp3mUItE76/tPKGFor+1mV+xZETXSafY5kSMo/nFgTtlhW6a/8/l99UqdDMjqo73qfzzzSB/zGJ8Mtu3zK9onQr8y9cLSkEAAmECDRW6eRajHXrooXox2oUXXmgdmeoXo9VSF1QawTKpLSprhtCNp0eY3a4rR9cQsOOl98ozRdSeu9sjaBuaozvLSQdZ5iz22yI3dPXqGwj/5S6EMhc4pe66YERc4zm62t5RtcVkqRHdaI6vv81ZZDFalkDL//XhLhabPRCN6CbzybSthHNPZ0YkN4N/OEc5Q+jGcpojDqbxLpWjGxKWSuhOdaKm9WzfVUzouovZxMuvdKOzzqKiSERXRYSNHMyUHNysHN0wTnv0MSyeEhbDBTnEmbPHycQKLzKL9jdUv4TQzfY/nqOb5LFV6HoLwWKLAUP9j+b8Fo7opvLJ4h8Xuqk52U7nC/uXY4gpAgEIxAk0VOhmbS/293//9zqK25ztxbyDHpzFaMErsuNButC11FeGAhv+rguhHGBLjq4TdnAPnPD9qGrXBS1eJ8ozYWEbec/dhSE6CaL76eZIfcj4JM1atVmWTd/p7GixINjRwq9iPPp23kzdRzeWWuBGhYNdeCMiNV3oOo2FH9+runeNk77ogRGld13whO1RNThJObppfJLRmnvo1srF0yeS7dcWnAX1g/SDtGuqtOV6dMeKwGiJXRdU3UhUM74gKW3iVbDrgrHzg5NSsGGfjJ3p5wl7j/wHa7so1ISKG3mNpUX47lrEctATL70iSfSYoi/Sx3DaRdavm9c3X6Tr4pH37Okj+VJH8vkf3bXA8SGyK4Vyyy501ZWk/lvshnnk4ZSDT3L7qrG0vlXgX9b4ch0CEEgk0FChq1qt58CI3/72t3LFFVcUGr6sXRfMxWiFTDetcOI+uk3zoL6GJi1a72zD1h+L6NZntXm1s6KR9XrSaD7l7Fe3j3FWVLyupxb1wm9IfVt+ptsQUbuGAI8YbQX+yT6k5VIzP5oxP2hjpBNouNBtnSOALRHXlh39hJPRWtZfz7FJi5yc53ky3pK20Oqum/6VOxkts4+N5lOX/YqEbp0no2UybNECtYMuTAcRMs0ZsKHnnyZ03Si1exAK86M5M4JWIFAjYAjdq6++WmbMmCHvvfee9PX1ycaNG3XJsvvo+s0kpTCkDUTRE9F8W8Mhoqv7og6OuNrZu9/Yfomp2zQCKoXByZG4PmF7rKb50bSGqhC6ajHfV53dGJIOilDb570l8o3QQRFN6x8NQaCRBNKFbiNbxjYEIJBOIBC606ZNk6VLl+pUgc7OTrn00ktl8eLFlQhdZURFdtXiNLW7QtpLpSuok9B27NhRauxa/QjgUp2iEgQgAAEIQAACEIBAYQKB0FU7H5x99tmiorrRV70R3bA9Fd1Vp59FT0BTuyuo/z3++OOFOxGugNCtCx+VIQABCEAAAhCAwLAhkBjRPeecc2TlypWVRXSbRQyh2yzStAMBCEAAAhCAAARam4CRo7tixQpREdeqc3SbiQCh20zatAUBCEAAAhCAAARal0DDd11odtcRus0mTnsQgAAEIAABCECgNQkgdFtzXPAKAhCAAAQgAAEIQKBOAgjdwgC9k83k57JowQPyWuH6OSvYthc7/AS5ecFJMqBOPxN1EtoouW/9Rln/25w26y3W0Par2N6qYAdjJ6+F6o+47cVU34f59mBjRstZS94v26/6jezRp2yNlrdXvyqv7S44bygOAQhAAAJtQwChW3io6hO6s1Z9S+a/cZMsWJP265pwYETdQnO89F55ppzm9XnXUxtl8RN/yE+g7vadppS4XBIc4pt+BHB+z8qVTBS6aQdG+Ef9xo/ezXbCPMY36YjgbDsNLFHngQ/qgITj9rzqbIzfmvuKho+5fXvzK/LYA39qIMxmmzaPyB1+/Ws2T9qDAASGAwGEbpNHMY/QTTwCWAvNifK0iuJK6N85I7pdn54v07c70eDtTqfDtnLWN+qUaP/Y7rXSd5HIPT0LZd2vXPDHdi+Xsx671vm7dSK6iUcAd10i3+3plE33DcrsC0S+d/5t8kyB+XNa743y8S1LZc1mp9Ixs2XF6hPluSXflJ+8XsBIE4rWc4Rv7QQoJXSPFrmdiGkThkw3YZy+paPXo2SAiHWz8NMOBCDQogRGkND1jwC+Q2TZxTJdD8heuXPRDbLGyz+YtGiZXCO3yXVyiayZd4QusfPOWvRVXfffly13SFdv+DzHdPtG3fBkiNpRKQs3/1nWzPqwbCgyabxoq4SitErY9kzaIX03PSFKW5mvv5UFl82RT/wyGtV1379AXpQlt74s1WmwGbL8/iUiq8+Vax+xdcwXuj3SP7dPLhqnyvQbolg9Wu9e619T17c65q4V35wS0kvlRue/pY6g1gZCEWO3zRnL75dQQFkVkJ6F68TT3SIqZWHmOPnBvSvkIcNNFcmdKQOLHXGrBW9xoWv22o0Mn/L0t2XF+vzPzg3/Dd99fqud4/SWiBszz+LnELSOh4poz5OdDyedcKaeOPxRXl8cOuHslI/KefMPs87YfJFFMxrpGtov2wOhZokQqzZnviuP3rhH3vFaDkdsRX4v23Sagnq59ce+VIvi6rLya/nZ+n2B32Z95+2XU67v3V1rWwvLMdIRKu/aivsw2f1qcV7ha1Z0tTc9+xKKQsfth23E+5vaQi7/XTF96gmeJVv/Y43ExzCt/1n8E/uQi4/LxN6+P79+LTL/aBkbm39uy6X9yxheLkMAAo0jMOKE7rzxIltu+Ir0PiiixefpLwa5toEY3enl3046R9avOUmeDIlhNRS63ISHrEJ33viaeLaVy4roTr18UO4d/yGZuPyQ4qNeKOLrpjGIyvdVEd7g1SChe2y3rO0bJ3eFhKnZwZqI9cWXjgCPu0vO1crYvT5ta48s9MLB+vq0rYFQdSPGjsD1BaBuc5ps9SLIWiTKas+eY9KSupAVzdQ+VyJ03TQG6fMivDlGO+q/+XcCvyifgGd6g4lRba+a/alDKIor4XzYHJ2zFDGFaLbQraVNhERJpy9GI8LPF+aGkDXbUPbOPnJPIISjwtj4WwmtL4wScUSsjqKq/of/3h0Xntr+ifsMoZ5KKhyl1XzTIrbujYNseM5JI8nBP9N/T+SFbgxsNwq+GJz8ZjQtJE//0/ln9iKVT1b7NRE84DGLj0+d/mV2gAIQgEAjCIw4oTthgyty3dcpsmrzp+QNT8hGhW/0ul8rTega9mddKpvnDxqL1tKF7nuyfN2AdG0ZK2fdcnCp8T7mjDmy+rh9ziP1iTI2Fq2tmdTR3o9UHbVNcVnn5qqAbi0CaxO64+4KRXzDQtQqlFWUeK70e0I2KnwdJRu6bpbVbceErlqM9R2Z3v9luezVIMYb71QFQlelMXxx7Ga5bvEm2ZVrpC3+G0xsqR8WPhftShmDmiNa8I97Sr70yC3WBZf6hmz6oXJhd4c8G1RT4soRXyqKqoWTyLOhaGuuboYKFRW6MftGxDcsdA7RIrBj737pGKwJWT/q2/GwKw5NoWtZvBZe3Ob1d/tLo2SyIwaflaNlqhNLHjhxtJu+YRX+xRfEueLrXRmQw6QjFJ2O9l2zC0R+DvJZ/u/O6H9k3GJC11gI6BeO2qxfSCbyyWzfllNevX85RoIiEIBAxQQQulGhG4vUxok3Wuge88MJsuDhsiOdHZHVYviT0twdG+oVutaFY6a4MyPAEX42oZwgdMe/Mlu+NpDCv06he9SCq+QaJ8d3U5H8XO3/ReImZIRffnpCttBVtYKot/pjayi6HTWrFqUd358odGXm72TH598XCN3YI93AXvHH8x1+XUu0tfbY2SuU9fg8uF4TutuPPF6nLDz65mgjYiuRnRgMoes/2o/x9x7Nj/bSKG4XmapSGHRawm7pcB6Va+Es8TSLqLDO94n3Io8SSpuIVNR+d0ko7SOHZf+mIMn/PV5qRlL/Q9k3ai7EhK4lzSTef1NYRiPqOXrhFEngk9l+HqFbhX/5ekEpCECgOgIjW+jq1IRO2dD1fVFBXruAbb7QrTui60Rq++RM6ZHH5fyf7jQ6MCQiV3uQN0e3zohu0qN5i9CNR4AbH9EtJXIDfrXodXxWWoRuarqIl+qwyy52s1I4rCk2oSiuRB77l/nKcgXbu16ebVbqgiUn1RbRdfJ+O45wbb4T9TES9cuM6IY7pdo6aZ9Oc6hFovfrnFAtdLVQ9Lc28yuWjOg66RTbnIhxNL9YWS0lclXFLP+fy++rVehmRlQdH1L555tB/pjF+GS2b5lf0ToV+JevF5SCAASqJDCiha5KI1gmtUVlzRC68fQIczjrytGdrPbWddI+9eIzSw6uvp619252RDh9As5y0kGWOYv9tsgNXb36BsJ/uQupzAVSqbsuGBHXeI6utndUbTFZakQ3muPrb3MWWYyWJfB0X1Ijusn9d+s5uzakRnIz+IVzjI2BiAvdWE5yZODSeJXK0Q0JSyV0pzpR03q27yomdKM5qd7itkhEV0WEjRzMlBzcrBzdME579DEsnhIWwxVJL9B5xeIJf0sOrr7uiOkSOy1k+x/P0U36HrAK3aTFgKH+R3N+C0d0U/lk8Y8L3dScbP+mIjR/qvxhxhYEIFAdgREndNVitOAV2fEgXeh6++eG6ytDgQ1/14VQDrAlR9cJW8ii9VdK4EdVuy5oETtRN85dtwAACvtJREFUngkvLjPeM/fQrUGI7spQr9AVmbVqsyybvtPZ0WJBsKOF357x6Nx5s/8ef3GZJSIZSy1wo8LBLrwRkZoudJ3Gwo//Vd27xknf3P6cuy6I6LxafxPiAGB8P117/809dGv889ZXNaK7TjhvBekHadcS6kZ3nAicKrHrgqobiQrGFySlfXFVsOuCsfODk1KwYZ+MnennCXuPtAdruyjUhJQbeY2lRfjuWsRybfhde0mizBR9kT6G0y6yvtO9vvkiXRc33rPxU4XypY7k8z+6a4FjPrIrhWrRLnTVlaT+W+yGeeThlMknrX11La1vFfiXNb5chwAEGkZgxAldczFaw7jWZThxH926rDav8qRF651t2PpjEd3meVBfS1nRzCzr9fa/XP3q9iHOimrX9dQhC96QXLflZ7qOFI4qDon/7d5oK/BP9iEtl5r50e5zD/9HAgGEbkuOcsLJaC3pa8ipSYucnOd5TtJEPG2h1V03/Us7GS2lJ/X2v676FQndOk9Ga69xrnlrHLYQ6gRCpjkjOvT804Ru5DAO5kdzJgWtQKAiAgjdikBWbkYdHHG1s/e/sX1T5a1gMImAOjjCyZG4PmF7rdYDV4XQVYvxvuqkQyQdFKG2v3tL5BuhgyJaDwQeQaAEgXShW8IgVSAAgRYhMIKEbosQxw0IQAACEIAABCAAgaYQQOg2BTONQAACEIAABCAAAQg0mwBCt9nEaQ8CEIAABCAAAQhAoCkEELpNwUwjEIAABCAAAQhAAALNJoDQbTZx2oMABCAAAQhAAAIQaAoBhG5TMNMIBCAAAQhAAAIQgECzCSB0m02c9iAAAQhAAAIQgAAEmkIAodsUzDQCAQhAAAIQgAAEINBsAgjdZhOnPQhAAAIQgAAEIACBphBA6DYFM41AAAIQgAAEIAABCDSbAEK32cRpDwIQgAAEIAABCECgKQQQuk3BTCMQgAAEIAABCEAAAs0mUFjo/vVf/3WzfaQ9CEAAAhCAAAQgAAEIFCaA0C2MjAoQgAAEIAABCEAAAu1AAKHbDqOEjxCAAAQgAAEIQAAChQkgdAsjowIEIAABCEAAAhCAQDsQQOi2wyjhIwQgAAEIQAACEIBAYQII3cLIqAABCEAAAhCAAAQg0A4EELrtMEr4CAEIQAACEIAABCBQmABCtzAyKkAAAhCAAAQgAAEItAMBhG47jBI+QgACEIAABCAAAQgUJoDQLYyMChCAAAQgAAEIQAAC7UAAodsOo4SPEIAABCAAAQhAAAKFCSB0CyOjAgQgAAEIQAACEIBAOxBA6BqjNFE+t+rrMnv0C7Kuu0+ebOoIni4967rlZK/NPZtWSu/dOwp4YNYX2SObVvZKzUS6/dN71km337jTarz9LPsFXKUoBCAAAQhAAAIQaAIBhK4P+fQeR9x2yqZNgzJ7tjRd6Cqheeq2bulT6nri52TV16fI84ZQTZsNrkCf8nxNHE/83Cr5+pTnZWXv3aLkcjH7rqh1ILj+SLb9JsxVmoAABCAAAQhAAAKFCIwMoauFo6NeQ1FSN4LpR26VkPuM7Op1orha8CYJXS/iK5sCAVmIdu7CcWGZXjUqTH2xPEY2WiPT2fYVnzm7feFc1H7ujlIQAhCAAAQgAAEINIzAyBC6OigZipJKSsS0JYSuRVhmTAEdwdVaXqUruPU7E9MfMuxrVqZILma/YfMVwxCAAAQgAAEIQCA3gZEjdLXWVY/zB+UFJxO2M/SY36CVKnRzc62roI42d5aIGmvf3UTbF4K0g7grSfbDebrWHOGc9uvqPJUhAAEIQAACEIBARQRGlND1c01np6UeNEroeukTo4OBsy94MyOn+UfZTMXwFo694AhmN8k2eOW1r+1JrX5e+/k9piQEIAABCEAAAhBoLIERJXS1yBuzUck3Q8QZiBsldHOMY14RGjNlW7xmea+QfcVhzm43Fzmn/RxdpAgEIAABCEAAAhBoGoGRI3QNAZuSozpUObr+rg+pOy34W3xFo8GWnNxoP3LZ9+edt+hu0I/o5rDftClLQxCAAAQgAAEIQCAfgZEhdL3cUiNvNfJedB9ZF19UUDZq14XoHrX+4NkF7ckxv5zysdSI8D66Wfb9/YNrkyaWo5tqP99koxQEIAABCEAAAhBoJoGRIXSbSZS2IAABCEAAAhCAAARaggBCtyWGAScgAAEIQAACEIAABKomgNCtmij2IAABCEAAAhCAAARaggBCtyWGAScgAAEIQAACEIAABKomgNCtmij2IAABCEAAAhCAAARaggBCtyWGAScgAAEIQAACEIAABKomgNCtmij2IAABCEAAAhCAAARaggBCtyWGAScgAAEIQAACEIAABKomgNCtmij2IAABCEAAAhCAAARaggBCNxgG8/Sw2MlglQyXfwJZ9MSzbOMTP7dKvj57tFHQ9DFyutkL/vG9fpU8/SvvX3YPKAEBCEAAAhCAAASaSwCh6/FWRwCfuq1b+p503tDH3U6R51f2yt07KhoQfeRwp2zaNCizZ4vz7z5RTeV9KaG7UNZKr9UhV6BOeX6ldz36t0hm/+r0L28/KAcBCEAAAhCAAASaRWBkCF0tXB11uckXgq7w6z45KbIaF4rugHgRT9kkK3vvlvwaWNX7jOzqdcStFpQVC13dvzGyMSyeVTtzdif4aRPG9fnXrAlLOxCAAAQgAAEIQCAvgZEhdLVGDUVpJSti6z7mV4pUR3iDV1mhGzLRCKFrs2kTv4EbSf1zCpT0L++EoxwEIAABCEAAAhBoFoGRI3S11nXyXKcMygtysnQGj/njqHW0t7No1DbnkJUUkrEc3T1h/6LCNT3XNrV/Jf3L2XuKQQACEIAABCAAgaYRGFFCN0/qgSsoVZZDhfm54eGsSEjGxKqXnuEuV9sjm9Y9L1O6I+kMvthP619F/jVtBtMQBCAAAQhAAAIQSCAwooSuFrFjNooTr3X+i+5K4EV8Gyly1SBUJSSz7Kjrp26T7lDuRS4Rn2WXjxIEIAABCEAAAhBoEwIjR+gaAs6So+rvOpAayW10jq6/BVjW9mOeH4Nxsa7nnU2s5upfhUK8TT4AuAkBCEAAAhCAwPAlMDKErhZ5J8sL4cVlxnvmHrO14Y4KzvJC193lITqRovaThG5kj1zHTHSfX8O+kb+rla9eXBdr3slW9rc5y+ff8P0g0DMIQAACEIAABIYfgZEhdIffuNEjCEAAAhCAAAQgAIEMAghdpggEIAABCEAAAhCAwLAkgNAdlsNKpyAAAQhAAAIQgAAEELrMAQhAAAIQgAAEIACBYUkAoTssh5VOQQACEIAABCAAAQggdJkDEIAABCAAAQhAAALDkgBCd1gOK52CAAQgAAEIQAACEEDoMgcgAAEIQAACEIAABIYlAYTusBxWOgUBCEAAAhCAAAQgUEjo/uUvf5H3ve99UIMABCAAAQhAAAIQgEDLE0DotvwQ4SAEIAABCEAAAhCAQBkCCN0y1KgDAQhAAAIQgAAEINDyBHIL3QMHDohKXTj44INbvlM4CAEIQAACEIAABCAAgUJCV4ndv/qrv4IaBCAAAQhAAAIQgAAEWp5ALqGreqFEbvR/fu/U+7wgAAEIQAACEIAABCDQSgQKCV1f8Ib/v5U6gy8QgAAEIAABCEAAAhDwCeQWukRvmTQQgAAEIAABCEAAAu1EoLDQbafO4SsEIAABCEAAAhCAwMglgNAduWNPzyEAAQhAAAIQgMCwJoDQHdbDS+cgAAEIQAACEIDAyCXw/wHA9KDAlkqyLAAAAABJRU5ErkJggg==)"
      ],
      "metadata": {
        "id": "5vU7UIkcT1Ec"
      }
    }
  ]
}